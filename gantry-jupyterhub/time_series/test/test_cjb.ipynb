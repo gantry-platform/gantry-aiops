{
 "cells": [
  {
   "cell_type": "code",
   "execution_count": 11,
   "metadata": {},
   "outputs": [],
   "source": [
    "import pandas as pd # dataset load\n",
    "from sklearn.datasets import load_iris\n",
    "# 계층적 군집 model\n",
    "from scipy.cluster.hierarchy import linkage, dendrogram"
   ]
  },
  {
   "cell_type": "code",
   "execution_count": 23,
   "metadata": {},
   "outputs": [
    {
     "data": {
      "text/html": [
       "<div>\n",
       "<style scoped>\n",
       "    .dataframe tbody tr th:only-of-type {\n",
       "        vertical-align: middle;\n",
       "    }\n",
       "\n",
       "    .dataframe tbody tr th {\n",
       "        vertical-align: top;\n",
       "    }\n",
       "\n",
       "    .dataframe thead th {\n",
       "        text-align: right;\n",
       "    }\n",
       "</style>\n",
       "<table border=\"1\" class=\"dataframe\">\n",
       "  <thead>\n",
       "    <tr style=\"text-align: right;\">\n",
       "      <th></th>\n",
       "      <th>time</th>\n",
       "      <th>cpu</th>\n",
       "      <th>memory</th>\n",
       "      <th>timestamp</th>\n",
       "    </tr>\n",
       "  </thead>\n",
       "  <tbody>\n",
       "    <tr>\n",
       "      <th>0</th>\n",
       "      <td>1596499200</td>\n",
       "      <td>0.565333</td>\n",
       "      <td>0.359691</td>\n",
       "      <td>2020-08-04 00:00:00</td>\n",
       "    </tr>\n",
       "    <tr>\n",
       "      <th>1</th>\n",
       "      <td>1596499800</td>\n",
       "      <td>0.571564</td>\n",
       "      <td>0.359799</td>\n",
       "      <td>2020-08-04 00:10:00</td>\n",
       "    </tr>\n",
       "    <tr>\n",
       "      <th>2</th>\n",
       "      <td>1596500400</td>\n",
       "      <td>0.543800</td>\n",
       "      <td>0.360392</td>\n",
       "      <td>2020-08-04 00:20:00</td>\n",
       "    </tr>\n",
       "    <tr>\n",
       "      <th>3</th>\n",
       "      <td>1596501000</td>\n",
       "      <td>0.534930</td>\n",
       "      <td>0.359795</td>\n",
       "      <td>2020-08-04 00:30:00</td>\n",
       "    </tr>\n",
       "    <tr>\n",
       "      <th>4</th>\n",
       "      <td>1596501600</td>\n",
       "      <td>0.569663</td>\n",
       "      <td>0.359930</td>\n",
       "      <td>2020-08-04 00:40:00</td>\n",
       "    </tr>\n",
       "  </tbody>\n",
       "</table>\n",
       "</div>"
      ],
      "text/plain": [
       "         time       cpu    memory           timestamp\n",
       "0  1596499200  0.565333  0.359691 2020-08-04 00:00:00\n",
       "1  1596499800  0.571564  0.359799 2020-08-04 00:10:00\n",
       "2  1596500400  0.543800  0.360392 2020-08-04 00:20:00\n",
       "3  1596501000  0.534930  0.359795 2020-08-04 00:30:00\n",
       "4  1596501600  0.569663  0.359930 2020-08-04 00:40:00"
      ]
     },
     "execution_count": 23,
     "metadata": {},
     "output_type": "execute_result"
    }
   ],
   "source": [
    "df = pd.read_csv('../../cto_k8s/m_data_10.11.1.80:9091.csv', \n",
    "                 usecols=['time', 'cpu_value', 'memory_value'])\n",
    "\n",
    "df.rename(columns={'cpu_value':'cpu', 'memory_value':'memory'}, inplace=True)\n",
    "\n",
    "df['timestamp'] = pd.to_datetime(df.time, unit='s')\n",
    "df.head()"
   ]
  },
  {
   "cell_type": "code",
   "execution_count": 24,
   "metadata": {},
   "outputs": [
    {
     "data": {
      "text/html": [
       "<div>\n",
       "<style scoped>\n",
       "    .dataframe tbody tr th:only-of-type {\n",
       "        vertical-align: middle;\n",
       "    }\n",
       "\n",
       "    .dataframe tbody tr th {\n",
       "        vertical-align: top;\n",
       "    }\n",
       "\n",
       "    .dataframe thead th {\n",
       "        text-align: right;\n",
       "    }\n",
       "</style>\n",
       "<table border=\"1\" class=\"dataframe\">\n",
       "  <thead>\n",
       "    <tr style=\"text-align: right;\">\n",
       "      <th></th>\n",
       "      <th>time</th>\n",
       "      <th>cpu</th>\n",
       "      <th>memory</th>\n",
       "      <th>timestamp</th>\n",
       "    </tr>\n",
       "  </thead>\n",
       "  <tbody>\n",
       "    <tr>\n",
       "      <th>3894</th>\n",
       "      <td>1598844000</td>\n",
       "      <td>3.012313</td>\n",
       "      <td>0.531181</td>\n",
       "      <td>2020-08-31 03:20:00</td>\n",
       "    </tr>\n",
       "    <tr>\n",
       "      <th>3895</th>\n",
       "      <td>1598844600</td>\n",
       "      <td>2.939557</td>\n",
       "      <td>NaN</td>\n",
       "      <td>2020-08-31 03:30:00</td>\n",
       "    </tr>\n",
       "    <tr>\n",
       "      <th>3896</th>\n",
       "      <td>1598845200</td>\n",
       "      <td>2.004364</td>\n",
       "      <td>0.534530</td>\n",
       "      <td>2020-08-31 03:40:00</td>\n",
       "    </tr>\n",
       "    <tr>\n",
       "      <th>3897</th>\n",
       "      <td>1598332200</td>\n",
       "      <td>NaN</td>\n",
       "      <td>0.511703</td>\n",
       "      <td>2020-08-25 05:10:00</td>\n",
       "    </tr>\n",
       "    <tr>\n",
       "      <th>3898</th>\n",
       "      <td>1598333400</td>\n",
       "      <td>NaN</td>\n",
       "      <td>0.510870</td>\n",
       "      <td>2020-08-25 05:30:00</td>\n",
       "    </tr>\n",
       "  </tbody>\n",
       "</table>\n",
       "</div>"
      ],
      "text/plain": [
       "            time       cpu    memory           timestamp\n",
       "3894  1598844000  3.012313  0.531181 2020-08-31 03:20:00\n",
       "3895  1598844600  2.939557       NaN 2020-08-31 03:30:00\n",
       "3896  1598845200  2.004364  0.534530 2020-08-31 03:40:00\n",
       "3897  1598332200       NaN  0.511703 2020-08-25 05:10:00\n",
       "3898  1598333400       NaN  0.510870 2020-08-25 05:30:00"
      ]
     },
     "execution_count": 24,
     "metadata": {},
     "output_type": "execute_result"
    }
   ],
   "source": [
    "df.tail()"
   ]
  },
  {
   "cell_type": "code",
   "execution_count": 25,
   "metadata": {},
   "outputs": [
    {
     "name": "stdout",
     "output_type": "stream",
     "text": [
      "<class 'pandas.core.frame.DataFrame'>\n",
      "RangeIndex: 3899 entries, 0 to 3898\n",
      "Data columns (total 4 columns):\n",
      " #   Column     Non-Null Count  Dtype         \n",
      "---  ------     --------------  -----         \n",
      " 0   time       3899 non-null   int64         \n",
      " 1   cpu        3897 non-null   float64       \n",
      " 2   memory     3849 non-null   float64       \n",
      " 3   timestamp  3899 non-null   datetime64[ns]\n",
      "dtypes: datetime64[ns](1), float64(2), int64(1)\n",
      "memory usage: 122.0 KB\n"
     ]
    }
   ],
   "source": [
    "df.info()"
   ]
  },
  {
   "cell_type": "code",
   "execution_count": 28,
   "metadata": {},
   "outputs": [],
   "source": [
    "df['cpu'] = df['cpu'].fillna(df['cpu'].mean())\n",
    "df['memory'] = df['memory'].fillna(df['memory'].mean())"
   ]
  },
  {
   "cell_type": "code",
   "execution_count": 29,
   "metadata": {},
   "outputs": [
    {
     "name": "stdout",
     "output_type": "stream",
     "text": [
      "<class 'pandas.core.frame.DataFrame'>\n",
      "RangeIndex: 3899 entries, 0 to 3898\n",
      "Data columns (total 4 columns):\n",
      " #   Column     Non-Null Count  Dtype         \n",
      "---  ------     --------------  -----         \n",
      " 0   time       3899 non-null   int64         \n",
      " 1   cpu        3899 non-null   float64       \n",
      " 2   memory     3899 non-null   float64       \n",
      " 3   timestamp  3899 non-null   datetime64[ns]\n",
      "dtypes: datetime64[ns](1), float64(2), int64(1)\n",
      "memory usage: 122.0 KB\n"
     ]
    }
   ],
   "source": [
    "df.info()"
   ]
  },
  {
   "cell_type": "code",
   "execution_count": 31,
   "metadata": {},
   "outputs": [
    {
     "data": {
      "text/html": [
       "<div>\n",
       "<style scoped>\n",
       "    .dataframe tbody tr th:only-of-type {\n",
       "        vertical-align: middle;\n",
       "    }\n",
       "\n",
       "    .dataframe tbody tr th {\n",
       "        vertical-align: top;\n",
       "    }\n",
       "\n",
       "    .dataframe thead th {\n",
       "        text-align: right;\n",
       "    }\n",
       "</style>\n",
       "<table border=\"1\" class=\"dataframe\">\n",
       "  <thead>\n",
       "    <tr style=\"text-align: right;\">\n",
       "      <th></th>\n",
       "      <th>time</th>\n",
       "      <th>cpu</th>\n",
       "      <th>memory</th>\n",
       "      <th>timestamp</th>\n",
       "    </tr>\n",
       "  </thead>\n",
       "  <tbody>\n",
       "    <tr>\n",
       "      <th>0</th>\n",
       "      <td>1596499200</td>\n",
       "      <td>0.565333</td>\n",
       "      <td>0.359691</td>\n",
       "      <td>2020-08-04 00:00:00</td>\n",
       "    </tr>\n",
       "    <tr>\n",
       "      <th>1</th>\n",
       "      <td>1596499800</td>\n",
       "      <td>0.571564</td>\n",
       "      <td>0.359799</td>\n",
       "      <td>2020-08-04 00:10:00</td>\n",
       "    </tr>\n",
       "    <tr>\n",
       "      <th>2</th>\n",
       "      <td>1596500400</td>\n",
       "      <td>0.543800</td>\n",
       "      <td>0.360392</td>\n",
       "      <td>2020-08-04 00:20:00</td>\n",
       "    </tr>\n",
       "    <tr>\n",
       "      <th>3</th>\n",
       "      <td>1596501000</td>\n",
       "      <td>0.534930</td>\n",
       "      <td>0.359795</td>\n",
       "      <td>2020-08-04 00:30:00</td>\n",
       "    </tr>\n",
       "    <tr>\n",
       "      <th>4</th>\n",
       "      <td>1596501600</td>\n",
       "      <td>0.569663</td>\n",
       "      <td>0.359930</td>\n",
       "      <td>2020-08-04 00:40:00</td>\n",
       "    </tr>\n",
       "  </tbody>\n",
       "</table>\n",
       "</div>"
      ],
      "text/plain": [
       "         time       cpu    memory           timestamp\n",
       "0  1596499200  0.565333  0.359691 2020-08-04 00:00:00\n",
       "1  1596499800  0.571564  0.359799 2020-08-04 00:10:00\n",
       "2  1596500400  0.543800  0.360392 2020-08-04 00:20:00\n",
       "3  1596501000  0.534930  0.359795 2020-08-04 00:30:00\n",
       "4  1596501600  0.569663  0.359930 2020-08-04 00:40:00"
      ]
     },
     "execution_count": 31,
     "metadata": {},
     "output_type": "execute_result"
    }
   ],
   "source": [
    "cols = list(df.columns)\n",
    "df_x = df[cols[:4]]\n",
    "df_x.head()"
   ]
  },
  {
   "cell_type": "code",
   "execution_count": null,
   "metadata": {},
   "outputs": [],
   "source": []
  }
 ],
 "metadata": {
  "kernelspec": {
   "display_name": "Python 3",
   "language": "python",
   "name": "python3"
  },
  "language_info": {
   "codemirror_mode": {
    "name": "ipython",
    "version": 3
   },
   "file_extension": ".py",
   "mimetype": "text/x-python",
   "name": "python",
   "nbconvert_exporter": "python",
   "pygments_lexer": "ipython3",
   "version": "3.7.8"
  }
 },
 "nbformat": 4,
 "nbformat_minor": 4
}
