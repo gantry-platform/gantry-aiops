{
 "cells": [
  {
   "cell_type": "code",
   "execution_count": 1,
   "metadata": {},
   "outputs": [
    {
     "name": "stdout",
     "output_type": "stream",
     "text": [
      "Collecting package metadata (current_repodata.json): done\n",
      "Solving environment: done\n",
      "\n",
      "\n",
      "==> WARNING: A newer version of conda exists. <==\n",
      "  current version: 4.8.3\n",
      "  latest version: 4.8.4\n",
      "\n",
      "Please update conda by running\n",
      "\n",
      "    $ conda update -n base conda\n",
      "\n",
      "\n",
      "\n",
      "## Package Plan ##\n",
      "\n",
      "  environment location: /opt/conda\n",
      "\n",
      "  added / updated specs:\n",
      "    - conda\n",
      "\n",
      "\n",
      "The following packages will be downloaded:\n",
      "\n",
      "    package                    |            build\n",
      "    ---------------------------|-----------------\n",
      "    attrs-20.1.0               |     pyh9f0ad1d_0          41 KB  conda-forge\n",
      "    bzip2-1.0.8                |       h516909a_3         398 KB  conda-forge\n",
      "    c-ares-1.16.1              |       h516909a_3         107 KB  conda-forge\n",
      "    jupyter_client-6.1.7       |             py_0          76 KB  conda-forge\n",
      "    libgcc-ng-9.3.0            |      h24d8f2e_16         7.8 MB  conda-forge\n",
      "    libgfortran-ng-7.5.0       |      hdf63c60_16         1.3 MB  conda-forge\n",
      "    libgomp-9.3.0              |      h24d8f2e_16         378 KB  conda-forge\n",
      "    libnghttp2-1.41.0          |       h8cfc5f6_2         774 KB  conda-forge\n",
      "    libstdcxx-ng-9.3.0         |      hdf63c60_16         4.0 MB  conda-forge\n",
      "    lz4-c-1.9.2                |       he1b5a44_3         203 KB  conda-forge\n",
      "    matplotlib-base-3.3.1      |   py37hd478181_1         6.7 MB  conda-forge\n",
      "    netcdf4-1.5.4              |nompi_py37hcbfd489_102         469 KB  conda-forge\n",
      "    numpy-1.19.1               |   py37h7ea13bd_2         5.2 MB  conda-forge\n",
      "    pandas-1.1.1               |   py37h3340039_0        10.5 MB  conda-forge\n",
      "    pystan-2.19.1.1            |   py37h9fdb41a_2        17.3 MB  conda-forge\n",
      "    ruamel.yaml-0.16.10        |   py37h8f50634_0         166 KB  conda-forge\n",
      "    ------------------------------------------------------------\n",
      "                                           Total:        55.3 MB\n",
      "\n",
      "The following packages will be UPDATED:\n",
      "\n",
      "  attrs                                         19.3.0-py_0 --> 20.1.0-pyh9f0ad1d_0\n",
      "  bzip2                                    1.0.8-h516909a_2 --> 1.0.8-h516909a_3\n",
      "  c-ares                                  1.16.1-h516909a_0 --> 1.16.1-h516909a_3\n",
      "  jupyter_client                                 6.1.6-py_0 --> 6.1.7-py_0\n",
      "  libgcc-ng                               9.3.0-h24d8f2e_15 --> 9.3.0-h24d8f2e_16\n",
      "  libgfortran-ng                          7.5.0-hdf63c60_15 --> 7.5.0-hdf63c60_16\n",
      "  libgomp                                 9.3.0-h24d8f2e_15 --> 9.3.0-h24d8f2e_16\n",
      "  libnghttp2                              1.41.0-hab1572f_1 --> 1.41.0-h8cfc5f6_2\n",
      "  libstdcxx-ng                            9.3.0-hdf63c60_15 --> 9.3.0-hdf63c60_16\n",
      "  lz4-c                                    1.9.2-he1b5a44_2 --> 1.9.2-he1b5a44_3\n",
      "  matplotlib-base                      3.3.1-py37hd478181_0 --> 3.3.1-py37hd478181_1\n",
      "  netcdf4                      1.5.4-nompi_py37hdc49583_100 --> 1.5.4-nompi_py37hcbfd489_102\n",
      "  numpy                               1.19.1-py37h8960a57_0 --> 1.19.1-py37h7ea13bd_2\n",
      "  pandas                               1.1.0-py37h3340039_0 --> 1.1.1-py37h3340039_0\n",
      "  pystan                            2.19.1.1-py37hb3f55d8_1 --> 2.19.1.1-py37h9fdb41a_2\n",
      "  ruamel.yaml                         0.16.6-py37h8f50634_1 --> 0.16.10-py37h8f50634_0\n",
      "\n",
      "\n",
      "\n",
      "Downloading and Extracting Packages\n",
      "ruamel.yaml-0.16.10  | 166 KB    | ##################################### | 100% \n",
      "jupyter_client-6.1.7 | 76 KB     | ##################################### | 100% \n",
      "lz4-c-1.9.2          | 203 KB    | ##################################### | 100% \n",
      "attrs-20.1.0         | 41 KB     | ##################################### | 100% \n",
      "bzip2-1.0.8          | 398 KB    | ##################################### | 100% \n",
      "libnghttp2-1.41.0    | 774 KB    | ##################################### | 100% \n",
      "libgomp-9.3.0        | 378 KB    | ##################################### | 100% \n",
      "libgcc-ng-9.3.0      | 7.8 MB    | ##################################### | 100% \n",
      "libgfortran-ng-7.5.0 | 1.3 MB    | ##################################### | 100% \n",
      "c-ares-1.16.1        | 107 KB    | ##################################### | 100% \n",
      "netcdf4-1.5.4        | 469 KB    | ##################################### | 100% \n",
      "numpy-1.19.1         | 5.2 MB    | ##################################### | 100% \n",
      "matplotlib-base-3.3. | 6.7 MB    | ##################################### | 100% \n",
      "libstdcxx-ng-9.3.0   | 4.0 MB    | ##################################### | 100% \n",
      "pandas-1.1.1         | 10.5 MB   | ##################################### | 100% \n",
      "pystan-2.19.1.1      | 17.3 MB   | ##################################### | 100% \n",
      "Preparing transaction: done\n",
      "Verifying transaction: done\n",
      "Executing transaction: done\n",
      "\n",
      "Note: you may need to restart the kernel to use updated packages.\n"
     ]
    }
   ],
   "source": [
    "conda update -n base conda"
   ]
  },
  {
   "cell_type": "code",
   "execution_count": 2,
   "metadata": {},
   "outputs": [
    {
     "name": "stdout",
     "output_type": "stream",
     "text": [
      "Collecting package metadata (current_repodata.json): done\n",
      "Solving environment: done\n",
      "\n",
      "\n",
      "==> WARNING: A newer version of conda exists. <==\n",
      "  current version: 4.8.3\n",
      "  latest version: 4.8.4\n",
      "\n",
      "Please update conda by running\n",
      "\n",
      "    $ conda update -n base conda\n",
      "\n",
      "\n",
      "\n",
      "# All requested packages already installed.\n",
      "\n",
      "\n",
      "Note: you may need to restart the kernel to use updated packages.\n"
     ]
    }
   ],
   "source": [
    "conda install -c conda-forge fbprophet"
   ]
  },
  {
   "cell_type": "code",
   "execution_count": 3,
   "metadata": {},
   "outputs": [
    {
     "name": "stdout",
     "output_type": "stream",
     "text": [
      "Requirement already up-to-date: pip in /opt/conda/lib/python3.7/site-packages (20.2.2)\n",
      "Note: you may need to restart the kernel to use updated packages.\n"
     ]
    }
   ],
   "source": [
    "pip install --upgrade pip"
   ]
  },
  {
   "cell_type": "code",
   "execution_count": 4,
   "metadata": {},
   "outputs": [
    {
     "name": "stdout",
     "output_type": "stream",
     "text": [
      "Requirement already satisfied: tensorflow in /opt/conda/lib/python3.7/site-packages (2.3.0)\n",
      "Requirement already satisfied: termcolor>=1.1.0 in /opt/conda/lib/python3.7/site-packages (from tensorflow) (1.1.0)\n",
      "Requirement already satisfied: scipy==1.4.1 in /opt/conda/lib/python3.7/site-packages (from tensorflow) (1.4.1)\n",
      "Requirement already satisfied: protobuf>=3.9.2 in /opt/conda/lib/python3.7/site-packages (from tensorflow) (3.13.0)\n",
      "Collecting numpy<1.19.0,>=1.16.0\n",
      "  Using cached numpy-1.18.5-cp37-cp37m-manylinux1_x86_64.whl (20.1 MB)\n",
      "Requirement already satisfied: keras-preprocessing<1.2,>=1.1.1 in /opt/conda/lib/python3.7/site-packages (from tensorflow) (1.1.2)\n",
      "Requirement already satisfied: astunparse==1.6.3 in /opt/conda/lib/python3.7/site-packages (from tensorflow) (1.6.3)\n",
      "Requirement already satisfied: tensorboard<3,>=2.3.0 in /opt/conda/lib/python3.7/site-packages (from tensorflow) (2.3.0)\n",
      "Requirement already satisfied: absl-py>=0.7.0 in /opt/conda/lib/python3.7/site-packages (from tensorflow) (0.9.0)\n",
      "Requirement already satisfied: tensorflow-estimator<2.4.0,>=2.3.0 in /opt/conda/lib/python3.7/site-packages (from tensorflow) (2.3.0)\n",
      "Requirement already satisfied: grpcio>=1.8.6 in /opt/conda/lib/python3.7/site-packages (from tensorflow) (1.31.0)\n",
      "Requirement already satisfied: wheel>=0.26 in /opt/conda/lib/python3.7/site-packages (from tensorflow) (0.35.1)\n",
      "Requirement already satisfied: h5py<2.11.0,>=2.10.0 in /opt/conda/lib/python3.7/site-packages (from tensorflow) (2.10.0)\n",
      "Requirement already satisfied: wrapt>=1.11.1 in /opt/conda/lib/python3.7/site-packages (from tensorflow) (1.12.1)\n",
      "Requirement already satisfied: opt-einsum>=2.3.2 in /opt/conda/lib/python3.7/site-packages (from tensorflow) (3.3.0)\n",
      "Requirement already satisfied: gast==0.3.3 in /opt/conda/lib/python3.7/site-packages (from tensorflow) (0.3.3)\n",
      "Requirement already satisfied: google-pasta>=0.1.8 in /opt/conda/lib/python3.7/site-packages (from tensorflow) (0.2.0)\n",
      "Requirement already satisfied: six>=1.12.0 in /opt/conda/lib/python3.7/site-packages (from tensorflow) (1.15.0)\n",
      "Requirement already satisfied: setuptools in /opt/conda/lib/python3.7/site-packages (from protobuf>=3.9.2->tensorflow) (49.6.0.post20200814)\n",
      "Requirement already satisfied: requests<3,>=2.21.0 in /opt/conda/lib/python3.7/site-packages (from tensorboard<3,>=2.3.0->tensorflow) (2.24.0)\n",
      "Requirement already satisfied: markdown>=2.6.8 in /opt/conda/lib/python3.7/site-packages (from tensorboard<3,>=2.3.0->tensorflow) (3.2.2)\n",
      "Requirement already satisfied: google-auth<2,>=1.6.3 in /opt/conda/lib/python3.7/site-packages (from tensorboard<3,>=2.3.0->tensorflow) (1.20.1)\n",
      "Requirement already satisfied: google-auth-oauthlib<0.5,>=0.4.1 in /opt/conda/lib/python3.7/site-packages (from tensorboard<3,>=2.3.0->tensorflow) (0.4.1)\n",
      "Requirement already satisfied: werkzeug>=0.11.15 in /opt/conda/lib/python3.7/site-packages (from tensorboard<3,>=2.3.0->tensorflow) (1.0.1)\n",
      "Requirement already satisfied: tensorboard-plugin-wit>=1.6.0 in /opt/conda/lib/python3.7/site-packages (from tensorboard<3,>=2.3.0->tensorflow) (1.7.0)\n",
      "Requirement already satisfied: certifi>=2017.4.17 in /opt/conda/lib/python3.7/site-packages (from requests<3,>=2.21.0->tensorboard<3,>=2.3.0->tensorflow) (2020.6.20)\n",
      "Requirement already satisfied: idna<3,>=2.5 in /opt/conda/lib/python3.7/site-packages (from requests<3,>=2.21.0->tensorboard<3,>=2.3.0->tensorflow) (2.10)\n",
      "Requirement already satisfied: chardet<4,>=3.0.2 in /opt/conda/lib/python3.7/site-packages (from requests<3,>=2.21.0->tensorboard<3,>=2.3.0->tensorflow) (3.0.4)\n",
      "Requirement already satisfied: urllib3!=1.25.0,!=1.25.1,<1.26,>=1.21.1 in /opt/conda/lib/python3.7/site-packages (from requests<3,>=2.21.0->tensorboard<3,>=2.3.0->tensorflow) (1.25.10)\n",
      "Requirement already satisfied: importlib-metadata; python_version < \"3.8\" in /opt/conda/lib/python3.7/site-packages (from markdown>=2.6.8->tensorboard<3,>=2.3.0->tensorflow) (1.7.0)\n",
      "Requirement already satisfied: pyasn1-modules>=0.2.1 in /opt/conda/lib/python3.7/site-packages (from google-auth<2,>=1.6.3->tensorboard<3,>=2.3.0->tensorflow) (0.2.8)\n",
      "Requirement already satisfied: rsa<5,>=3.1.4; python_version >= \"3.5\" in /opt/conda/lib/python3.7/site-packages (from google-auth<2,>=1.6.3->tensorboard<3,>=2.3.0->tensorflow) (4.6)\n",
      "Requirement already satisfied: cachetools<5.0,>=2.0.0 in /opt/conda/lib/python3.7/site-packages (from google-auth<2,>=1.6.3->tensorboard<3,>=2.3.0->tensorflow) (4.1.1)\n",
      "Requirement already satisfied: requests-oauthlib>=0.7.0 in /opt/conda/lib/python3.7/site-packages (from google-auth-oauthlib<0.5,>=0.4.1->tensorboard<3,>=2.3.0->tensorflow) (1.3.0)\n",
      "Requirement already satisfied: zipp>=0.5 in /opt/conda/lib/python3.7/site-packages (from importlib-metadata; python_version < \"3.8\"->markdown>=2.6.8->tensorboard<3,>=2.3.0->tensorflow) (3.1.0)\n",
      "Requirement already satisfied: pyasn1<0.5.0,>=0.4.6 in /opt/conda/lib/python3.7/site-packages (from pyasn1-modules>=0.2.1->google-auth<2,>=1.6.3->tensorboard<3,>=2.3.0->tensorflow) (0.4.8)\n",
      "Requirement already satisfied: oauthlib>=3.0.0 in /opt/conda/lib/python3.7/site-packages (from requests-oauthlib>=0.7.0->google-auth-oauthlib<0.5,>=0.4.1->tensorboard<3,>=2.3.0->tensorflow) (3.0.1)\n",
      "Installing collected packages: numpy\n",
      "  Attempting uninstall: numpy\n",
      "    Found existing installation: numpy 1.19.1\n",
      "    Uninstalling numpy-1.19.1:\n",
      "      Successfully uninstalled numpy-1.19.1\n",
      "\u001b[31mERROR: After October 2020 you may experience errors when installing or updating packages. This is because pip will change the way that it resolves dependency conflicts.\n",
      "\n",
      "We recommend you use --use-feature=2020-resolver to test your packages with the new resolver before it becomes the default.\n",
      "\n",
      "fbprophet 0.6 requires cmdstanpy==0.4, which is not installed.\n",
      "fbprophet 0.6 requires setuptools-git>=1.2, which is not installed.\u001b[0m\n",
      "Successfully installed numpy-1.18.5\n",
      "Note: you may need to restart the kernel to use updated packages.\n"
     ]
    }
   ],
   "source": [
    "pip install tensorflow"
   ]
  },
  {
   "cell_type": "code",
   "execution_count": 5,
   "metadata": {},
   "outputs": [
    {
     "name": "stdout",
     "output_type": "stream",
     "text": [
      "Requirement already satisfied: seaborn in /opt/conda/lib/python3.7/site-packages (0.10.1)\n",
      "Requirement already satisfied: scipy>=1.0.1 in /opt/conda/lib/python3.7/site-packages (from seaborn) (1.4.1)\n",
      "Requirement already satisfied: matplotlib>=2.1.2 in /opt/conda/lib/python3.7/site-packages (from seaborn) (3.3.1)\n",
      "Requirement already satisfied: pandas>=0.22.0 in /opt/conda/lib/python3.7/site-packages (from seaborn) (1.1.1)\n",
      "Requirement already satisfied: numpy>=1.13.3 in /opt/conda/lib/python3.7/site-packages (from seaborn) (1.18.5)\n",
      "Requirement already satisfied: python-dateutil>=2.1 in /opt/conda/lib/python3.7/site-packages (from matplotlib>=2.1.2->seaborn) (2.8.1)\n",
      "Requirement already satisfied: cycler>=0.10 in /opt/conda/lib/python3.7/site-packages (from matplotlib>=2.1.2->seaborn) (0.10.0)\n",
      "Requirement already satisfied: pillow>=6.2.0 in /opt/conda/lib/python3.7/site-packages (from matplotlib>=2.1.2->seaborn) (7.2.0)\n",
      "Requirement already satisfied: pyparsing!=2.0.4,!=2.1.2,!=2.1.6,>=2.0.3 in /opt/conda/lib/python3.7/site-packages (from matplotlib>=2.1.2->seaborn) (2.4.7)\n",
      "Requirement already satisfied: certifi>=2020.06.20 in /opt/conda/lib/python3.7/site-packages (from matplotlib>=2.1.2->seaborn) (2020.6.20)\n",
      "Requirement already satisfied: kiwisolver>=1.0.1 in /opt/conda/lib/python3.7/site-packages (from matplotlib>=2.1.2->seaborn) (1.2.0)\n",
      "Requirement already satisfied: pytz>=2017.2 in /opt/conda/lib/python3.7/site-packages (from pandas>=0.22.0->seaborn) (2020.1)\n",
      "Requirement already satisfied: six>=1.5 in /opt/conda/lib/python3.7/site-packages (from python-dateutil>=2.1->matplotlib>=2.1.2->seaborn) (1.15.0)\n",
      "Note: you may need to restart the kernel to use updated packages.\n"
     ]
    }
   ],
   "source": [
    "pip install seaborn"
   ]
  },
  {
   "cell_type": "code",
   "execution_count": 6,
   "metadata": {},
   "outputs": [
    {
     "name": "stdout",
     "output_type": "stream",
     "text": [
      "Requirement already satisfied: statsmodels in /opt/conda/lib/python3.7/site-packages (0.11.1)\n",
      "Requirement already satisfied: scipy>=1.0 in /opt/conda/lib/python3.7/site-packages (from statsmodels) (1.4.1)\n",
      "Requirement already satisfied: numpy>=1.14 in /opt/conda/lib/python3.7/site-packages (from statsmodels) (1.18.5)\n",
      "Requirement already satisfied: pandas>=0.21 in /opt/conda/lib/python3.7/site-packages (from statsmodels) (1.1.1)\n",
      "Requirement already satisfied: patsy>=0.5 in /opt/conda/lib/python3.7/site-packages (from statsmodels) (0.5.1)\n",
      "Requirement already satisfied: python-dateutil>=2.7.3 in /opt/conda/lib/python3.7/site-packages (from pandas>=0.21->statsmodels) (2.8.1)\n",
      "Requirement already satisfied: pytz>=2017.2 in /opt/conda/lib/python3.7/site-packages (from pandas>=0.21->statsmodels) (2020.1)\n",
      "Requirement already satisfied: six in /opt/conda/lib/python3.7/site-packages (from patsy>=0.5->statsmodels) (1.15.0)\n",
      "Note: you may need to restart the kernel to use updated packages.\n"
     ]
    }
   ],
   "source": [
    "pip install statsmodels"
   ]
  },
  {
   "cell_type": "code",
   "execution_count": 7,
   "metadata": {},
   "outputs": [
    {
     "name": "stdout",
     "output_type": "stream",
     "text": [
      "Requirement already satisfied: scikit-learn in /opt/conda/lib/python3.7/site-packages (0.23.2)\n",
      "Requirement already satisfied: scipy>=0.19.1 in /opt/conda/lib/python3.7/site-packages (from scikit-learn) (1.4.1)\n",
      "Requirement already satisfied: joblib>=0.11 in /opt/conda/lib/python3.7/site-packages (from scikit-learn) (0.16.0)\n",
      "Requirement already satisfied: threadpoolctl>=2.0.0 in /opt/conda/lib/python3.7/site-packages (from scikit-learn) (2.1.0)\n",
      "Requirement already satisfied: numpy>=1.13.3 in /opt/conda/lib/python3.7/site-packages (from scikit-learn) (1.18.5)\n",
      "Note: you may need to restart the kernel to use updated packages.\n"
     ]
    }
   ],
   "source": [
    "pip install scikit-learn"
   ]
  },
  {
   "cell_type": "code",
   "execution_count": 8,
   "metadata": {},
   "outputs": [
    {
     "name": "stdout",
     "output_type": "stream",
     "text": [
      "Requirement already satisfied: keras in /opt/conda/lib/python3.7/site-packages (2.4.3)\n",
      "Requirement already satisfied: numpy>=1.9.1 in /opt/conda/lib/python3.7/site-packages (from keras) (1.18.5)\n",
      "Requirement already satisfied: pyyaml in /opt/conda/lib/python3.7/site-packages (from keras) (5.3.1)\n",
      "Requirement already satisfied: scipy>=0.14 in /opt/conda/lib/python3.7/site-packages (from keras) (1.4.1)\n",
      "Requirement already satisfied: h5py in /opt/conda/lib/python3.7/site-packages (from keras) (2.10.0)\n",
      "Requirement already satisfied: six in /opt/conda/lib/python3.7/site-packages (from h5py->keras) (1.15.0)\n",
      "Note: you may need to restart the kernel to use updated packages.\n"
     ]
    }
   ],
   "source": [
    "pip install keras"
   ]
  },
  {
   "cell_type": "code",
   "execution_count": 9,
   "metadata": {},
   "outputs": [
    {
     "name": "stdout",
     "output_type": "stream",
     "text": [
      "Package                       Version\n",
      "----------------------------- -------------------\n",
      "absl-py                       0.9.0\n",
      "alembic                       1.4.2\n",
      "arviz                         0.9.0\n",
      "astunparse                    1.6.3\n",
      "async-generator               1.10\n",
      "attrs                         20.1.0\n",
      "backcall                      0.2.0\n",
      "backports.functools-lru-cache 1.6.1\n",
      "bleach                        3.1.5\n",
      "blinker                       1.4\n",
      "brotlipy                      0.7.0\n",
      "cachetools                    4.1.1\n",
      "certifi                       2020.6.20\n",
      "certipy                       0.1.3\n",
      "cffi                          1.14.1\n",
      "cftime                        1.2.1\n",
      "chardet                       3.0.4\n",
      "conda                         4.8.3\n",
      "conda-package-handling        1.6.1\n",
      "convertdate                   2.2.1\n",
      "cryptography                  3.0\n",
      "cycler                        0.10.0\n",
      "Cython                        0.29.21\n",
      "decorator                     4.4.2\n",
      "defusedxml                    0.6.0\n",
      "entrypoints                   0.3\n",
      "ephem                         3.7.7.1\n",
      "fbprophet                     0.6\n",
      "gast                          0.3.3\n",
      "google-auth                   1.20.1\n",
      "google-auth-oauthlib          0.4.1\n",
      "google-pasta                  0.2.0\n",
      "grpcio                        1.31.0\n",
      "h5py                          2.10.0\n",
      "holidays                      0.10.3\n",
      "idna                          2.10\n",
      "importlib-metadata            1.7.0\n",
      "ipykernel                     5.3.4\n",
      "ipython                       7.17.0\n",
      "ipython-genutils              0.2.0\n",
      "jedi                          0.17.2\n",
      "Jinja2                        2.11.2\n",
      "joblib                        0.16.0\n",
      "json5                         0.9.4\n",
      "jsonschema                    3.2.0\n",
      "jupyter-client                6.1.7\n",
      "jupyter-core                  4.6.3\n",
      "jupyter-telemetry             0.0.5\n",
      "jupyterhub                    1.1.0\n",
      "jupyterlab                    2.1.5\n",
      "jupyterlab-server             1.2.0\n",
      "Keras                         2.4.3\n",
      "Keras-Preprocessing           1.1.2\n",
      "kiwisolver                    1.2.0\n",
      "korean-lunar-calendar         0.2.1\n",
      "LunarCalendar                 0.0.9\n",
      "Mako                          1.1.3\n",
      "Markdown                      3.2.2\n",
      "MarkupSafe                    1.1.1\n",
      "matplotlib                    3.3.1\n",
      "mistune                       0.8.4\n",
      "nbconvert                     5.6.1\n",
      "nbformat                      5.0.7\n",
      "netCDF4                       1.5.4\n",
      "notebook                      6.0.3\n",
      "numpy                         1.18.5\n",
      "oauthlib                      3.0.1\n",
      "olefile                       0.46\n",
      "opt-einsum                    3.3.0\n",
      "packaging                     20.4\n",
      "pamela                        1.0.0\n",
      "pandas                        1.1.1\n",
      "pandocfilters                 1.4.2\n",
      "parso                         0.7.1\n",
      "patsy                         0.5.1\n",
      "pexpect                       4.8.0\n",
      "pickleshare                   0.7.5\n",
      "Pillow                        7.2.0\n",
      "pip                           20.2.2\n",
      "prometheus-client             0.8.0\n",
      "prompt-toolkit                3.0.6\n",
      "protobuf                      3.13.0\n",
      "ptyprocess                    0.6.0\n",
      "pyasn1                        0.4.8\n",
      "pyasn1-modules                0.2.8\n",
      "pycosat                       0.6.3\n",
      "pycparser                     2.20\n",
      "pycurl                        7.43.0.5\n",
      "Pygments                      2.6.1\n",
      "PyJWT                         1.7.1\n",
      "PyMeeus                       0.3.7\n",
      "pyOpenSSL                     19.1.0\n",
      "pyparsing                     2.4.7\n",
      "pyrsistent                    0.16.0\n",
      "PySocks                       1.7.1\n",
      "pystan                        2.19.1.1\n",
      "python-dateutil               2.8.1\n",
      "python-editor                 1.0.4\n",
      "python-json-logger            0.1.11\n",
      "pytz                          2020.1\n",
      "PyYAML                        5.3.1\n",
      "pyzmq                         19.0.2\n",
      "requests                      2.24.0\n",
      "requests-oauthlib             1.3.0\n",
      "rsa                           4.6\n",
      "ruamel-yaml                   0.15.80\n",
      "ruamel.yaml                   0.16.10\n",
      "ruamel.yaml.clib              0.2.0\n",
      "scikit-learn                  0.23.2\n",
      "scipy                         1.4.1\n",
      "seaborn                       0.10.1\n",
      "Send2Trash                    1.5.0\n",
      "setuptools                    49.6.0.post20200814\n",
      "six                           1.15.0\n",
      "SQLAlchemy                    1.3.19\n",
      "statsmodels                   0.11.1\n",
      "tensorboard                   2.3.0\n",
      "tensorboard-plugin-wit        1.7.0\n",
      "tensorflow                    2.3.0\n",
      "tensorflow-estimator          2.3.0\n",
      "termcolor                     1.1.0\n",
      "terminado                     0.8.3\n",
      "testpath                      0.4.4\n",
      "threadpoolctl                 2.1.0\n",
      "tornado                       6.0.4\n",
      "tqdm                          4.48.2\n",
      "traitlets                     4.3.3\n",
      "urllib3                       1.25.10\n",
      "wcwidth                       0.2.5\n",
      "webencodings                  0.5.1\n",
      "Werkzeug                      1.0.1\n",
      "wheel                         0.35.1\n",
      "wrapt                         1.12.1\n",
      "xarray                        0.16.0\n",
      "zipp                          3.1.0\n",
      "Note: you may need to restart the kernel to use updated packages.\n"
     ]
    }
   ],
   "source": [
    "pip list"
   ]
  },
  {
   "cell_type": "code",
   "execution_count": null,
   "metadata": {},
   "outputs": [],
   "source": []
  }
 ],
 "metadata": {
  "kernelspec": {
   "display_name": "Python 3",
   "language": "python",
   "name": "python3"
  },
  "language_info": {
   "codemirror_mode": {
    "name": "ipython",
    "version": 3
   },
   "file_extension": ".py",
   "mimetype": "text/x-python",
   "name": "python",
   "nbconvert_exporter": "python",
   "pygments_lexer": "ipython3",
   "version": "3.7.8"
  }
 },
 "nbformat": 4,
 "nbformat_minor": 4
}
