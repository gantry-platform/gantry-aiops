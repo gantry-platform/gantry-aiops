{
 "cells": [
  {
   "cell_type": "markdown",
   "metadata": {},
   "source": [
    "# Prometheus에서 Data 수집 "
   ]
  },
  {
   "cell_type": "markdown",
   "metadata": {},
   "source": [
    "메트릭 데이터를 개발 캔트리(Dev Gangry)에서 수집. 수집 메트릭 데이터는 CPU, Memory."
   ]
  },
  {
   "cell_type": "code",
   "execution_count": 1,
   "metadata": {},
   "outputs": [],
   "source": [
    "import requests\n",
    "import json\n",
    "import time\n",
    "import pandas as pd"
   ]
  },
  {
   "cell_type": "code",
   "execution_count": 2,
   "metadata": {},
   "outputs": [],
   "source": [
    "prom_query_range_url = 'http://13.125.42.163:30915/api/v1/query_range?query='\n",
    "prom_query_url = 'http://13.125.42.163:30915/api/v1/query?query='"
   ]
  },
  {
   "cell_type": "code",
   "execution_count": 3,
   "metadata": {},
   "outputs": [],
   "source": [
    "def call_data(url, query):\n",
    "    r = requests.get(url + query)\n",
    "    return r"
   ]
  },
  {
   "cell_type": "code",
   "execution_count": 4,
   "metadata": {},
   "outputs": [],
   "source": [
    "def convert_range_time():\n",
    "    start_time = '2020-08-04T00:00:00Z'\n",
    "    #end_time = '2020-08-27T23:59:59Z' \n",
    "    \n",
    "    now = time.localtime()\n",
    "    current_date = \"%04d-%02d-%02d\" % (now.tm_year, now.tm_mon, now.tm_mday)\n",
    "    current_time = \"%02d:%02d:%02d\" % (now.tm_hour, now.tm_min, now.tm_sec)\n",
    "    \n",
    "    current_d_t = current_d_t = current_date + 'T' + current_time + 'Z'\n",
    "    \n",
    "    step = '10m'\n",
    "    \n",
    "    c_start_time = time.strftime(\"%Y-%m-%dT%H:%M:%SZ\", time.gmtime(time.mktime(time.strptime(start_time, \"%Y-%m-%dT%H:%M:%SZ\"))))\n",
    "    #c_end_time = time.strftime(\"%Y-%m-%dT%H:%M:%SZ\", time.gmtime(time.mktime(time.strptime(end_time, \"%Y-%m-%dT%H:%M:%SZ\"))))\n",
    "    \n",
    "    #start_end_step = '&start=' + c_start_time + '&end=' + c_end_time + '&step=' + step\n",
    "    start_end_step = '&start=' + c_start_time + '&end=' + current_d_t + '&step=' + step\n",
    "    \n",
    "    return start_end_step"
   ]
  },
  {
   "cell_type": "code",
   "execution_count": 5,
   "metadata": {},
   "outputs": [
    {
     "name": "stdout",
     "output_type": "stream",
     "text": [
      "&start=2020-08-04T00:00:00Z&end=2020-09-11T06:06:06Z&step=10m\n"
     ]
    }
   ],
   "source": [
    "# 날짜 테스트 현재 시간, 현재 시스템 시간 확인 \n",
    "print(convert_range_time())"
   ]
  },
  {
   "cell_type": "code",
   "execution_count": 6,
   "metadata": {},
   "outputs": [
    {
     "data": {
      "text/plain": [
       "\"\\ncpu_query = 'instance:node_cpu:rate:sum'\\nquery_range = '&start=2020-08-04T00:00:00Z&end=2020-08-04T05:56:48Z&step=10m'\\nquery_structure = cpu_query + query_range\\nprint(query_structure)\\nprint(prom_query_range_url + query_structure)\\n\\nrr = call_data(prom_query_range_url, query_structure)\\nprint(rr)\\n\""
      ]
     },
     "execution_count": 6,
     "metadata": {},
     "output_type": "execute_result"
    }
   ],
   "source": [
    "# web cur code for test\n",
    "'''\n",
    "cpu_query = 'instance:node_cpu:rate:sum'\n",
    "query_range = '&start=2020-08-04T00:00:00Z&end=2020-08-04T05:56:48Z&step=10m'\n",
    "query_structure = cpu_query + query_range\n",
    "print(query_structure)\n",
    "print(prom_query_range_url + query_structure)\n",
    "\n",
    "rr = call_data(prom_query_range_url, query_structure)\n",
    "print(rr)\n",
    "'''"
   ]
  },
  {
   "cell_type": "code",
   "execution_count": 7,
   "metadata": {},
   "outputs": [],
   "source": [
    "# CPU\n",
    "def cpu_data():\n",
    "    cpu_query = 'instance:node_cpu:rate:sum'\n",
    "    query_range = str(convert_range_time())\n",
    "    query_structure = cpu_query + query_range\n",
    "    cpu_r = call_data(prom_query_range_url, query_structure)\n",
    "    cpu_result = json.loads(cpu_r.text)\n",
    "    #print('result size=', len(cpu_result['data']['result'])) \n",
    "    ###print(\"===== CPU RESULT =====\")\n",
    "    \n",
    "    instance_list = []\n",
    "    cpu_value_list = []\n",
    "    time_list = []\n",
    "\n",
    "    list_cpu = []\n",
    "    for item in cpu_result['data']['result']:\n",
    "        #print(item['metric']['instance'], item['values'])\n",
    "        #print('value size=', len(item['values']))\n",
    "        len_value = len(item['values'])\n",
    "        #for item2 in item['values']:\n",
    "        #    print('item2=', item2)\n",
    "        \n",
    "        for i in range(len_value):\n",
    "            #print(item['metric']['instance'], i, item['values'][i])\n",
    "            time_list.append(item['values'][i][0])\n",
    "            instance_list.append(item['metric']['instance'])\n",
    "            cpu_value_list.append(item['values'][i][1])\n",
    "\n",
    "            #dict\n",
    "            item_cpu = {'time': item['values'][i][0], 'cpu_instance':item['metric']['instance'], 'cpu_value':item['values'][i][1]}\n",
    "            list_cpu.append(item_cpu)\n",
    "            #print(item_cpu)\n",
    "            \n",
    "            \n",
    "    ###print(\"======================\")\n",
    "    #print(instance_list)\n",
    "    #print(cpu_value_list)\n",
    "    #return (cnt_cpu, time_list, instance_list, cpu_value_list)\n",
    "    return (list_cpu)"
   ]
  },
  {
   "cell_type": "code",
   "execution_count": 8,
   "metadata": {},
   "outputs": [],
   "source": [
    "# Memory\n",
    "def memory_data():\n",
    "    memory_query = 'instance:node_memory_utilisation:ratio'\n",
    "    query_range = str(convert_range_time())\n",
    "    query_structure = memory_query + query_range\n",
    "    memory_r = call_data(prom_query_range_url, query_structure)\n",
    "    memory_result = json.loads(memory_r.text)\n",
    "    #print('result size=', len(cpu_result['data']['result'])) \n",
    "    ###print(\"===== MEMORY RESULT =====\")\n",
    "    instance_list = []\n",
    "    memory_value_list = []\n",
    "    time_list = []\n",
    "\n",
    "    \n",
    "    list_memory = []\n",
    "    for item in memory_result['data']['result']:\n",
    "        len_value = len(item['values'])\n",
    "\n",
    "        for i in range(len_value):\n",
    "            #print(item['metric']['instance'], i, item['values'][i])\n",
    "            time_list.append(item['values'][i][0])\n",
    "            instance_list.append(item['metric']['instance'])\n",
    "            memory_value_list.append(item['values'][i][1])\n",
    "            \n",
    "            # dict\n",
    "            item_memory = {'time':item['values'][i][0], 'memory_instance':item['metric']['instance'], 'memory_value': item['values'][i][1]}\n",
    "            list_memory.append(item_memory)\n",
    "            \n",
    "    ###print(\"=========================\")\n",
    "    #return (cnt_mem, time_list, instance_list, memory_value_list)\n",
    "    return(list_memory)"
   ]
  },
  {
   "cell_type": "code",
   "execution_count": 9,
   "metadata": {},
   "outputs": [],
   "source": [
    "# Merge Data\n",
    "def merge_metric_data():\n",
    "    list_cpu = cpu_data()\n",
    "    list_memory = memory_data()\n",
    "\n",
    "    df_cpu = pd.DataFrame(list_cpu)\n",
    "    df_memory = pd.DataFrame(list_memory)\n",
    "    \n",
    "    inst_cpu = df_cpu[\"cpu_instance\"].unique()\n",
    "    inst_memory = df_memory[\"memory_instance\"].unique()\n",
    "    \n",
    "    inst = pd.concat([df_cpu['cpu_instance'], df_memory['memory_instance']]).unique()\n",
    "    #print(inst)\n",
    "    \n",
    "    len_list_inst = len(inst)\n",
    "    \n",
    "    dict_result = {}\n",
    "    for k in range(len_list_inst):\n",
    "        key = inst[k]\n",
    "        \n",
    "        temp_df_cpu = df_cpu[df_cpu.cpu_instance == key]\n",
    "        temp_df_memory = df_memory[df_memory.memory_instance == key]\n",
    "        temp_merge = pd.merge(temp_df_cpu, temp_df_memory, how='outer')\n",
    "\n",
    "        dict_result[key] = temp_merge\n",
    "        merge_data = dict_result[key]\n",
    "        merge_data.to_csv(\"../cto_k8s/m_data_\" + key + \".csv\", mode='w')\n",
    "    "
   ]
  },
  {
   "cell_type": "code",
   "execution_count": 10,
   "metadata": {
    "scrolled": true
   },
   "outputs": [
    {
     "name": "stdout",
     "output_type": "stream",
     "text": [
      "None\n"
     ]
    }
   ],
   "source": [
    "if __name__==\"__main__\":\n",
    "    #print(cpu_data())\n",
    "    #print(memory_data())\n",
    "    print(merge_metric_data())"
   ]
  },
  {
   "cell_type": "code",
   "execution_count": null,
   "metadata": {},
   "outputs": [],
   "source": []
  }
 ],
 "metadata": {
  "kernelspec": {
   "display_name": "Python 3",
   "language": "python",
   "name": "python3"
  },
  "language_info": {
   "codemirror_mode": {
    "name": "ipython",
    "version": 3
   },
   "file_extension": ".py",
   "mimetype": "text/x-python",
   "name": "python",
   "nbconvert_exporter": "python",
   "pygments_lexer": "ipython3",
   "version": "3.7.8"
  }
 },
 "nbformat": 4,
 "nbformat_minor": 4
}
