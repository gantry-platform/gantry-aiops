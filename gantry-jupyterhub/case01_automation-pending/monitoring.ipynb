{
 "cells": [
  {
   "cell_type": "code",
   "execution_count": 31,
   "metadata": {},
   "outputs": [],
   "source": [
    "import os\n",
    "import requests\n",
    "import json\n",
    "import pandas as pd\n",
    "import subprocess\n",
    "\n",
    "from spellchecker import SpellChecker"
   ]
  },
  {
   "cell_type": "code",
   "execution_count": 32,
   "metadata": {},
   "outputs": [],
   "source": [
    "prom_query_url = 'http://13.125.63.249:30915/api/v1/query?query='"
   ]
  },
  {
   "cell_type": "code",
   "execution_count": 33,
   "metadata": {},
   "outputs": [],
   "source": [
    "def call_data(url, query):\n",
    "    r = requests.get(url + query)\n",
    "    return r"
   ]
  },
  {
   "cell_type": "code",
   "execution_count": 34,
   "metadata": {},
   "outputs": [],
   "source": [
    "def kube_container_waiting():\n",
    "    ## Alerts case : KubeContainerWaiting\n",
    "    alert_query = 'ALERTS{alertname=\"KubeContainerWaiting\"}'\n",
    "    alert_get = call_data(prom_query_url, alert_query)\n",
    "    alert_message = json.loads(alert_get.text)\n",
    "    \n",
    "    fix_list = []\n",
    "    for item in alert_message['data']['result']:\n",
    "        #print(item)\n",
    "        check_list = {'namespace':item['metric']['namespace'], 'pod':item['metric']['pod']}\n",
    "        #check_list = {item['metric']['namespace'], item['metric']['pod']}\n",
    "        #print(check_list)        \n",
    "        fix_list.append(check_list)     \n",
    "    \n",
    "    return(fix_list) "
   ]
  },
  {
   "cell_type": "code",
   "execution_count": 35,
   "metadata": {},
   "outputs": [],
   "source": [
    "def kubectl_jsonpath():\n",
    "    pending_data = kube_container_waiting()\n",
    "    cnt = len(pending_data)    \n",
    "    df_data = pd.DataFrame(pending_data)\n",
    "    #print(df_data)\n",
    "    \n",
    "    kubectl_result = []\n",
    "    for i in range(cnt):\n",
    "        namespace = df_data.namespace[i]\n",
    "        pod = df_data.pod[i]\n",
    "        \n",
    "        \n",
    "        # !kubectl -n aiops get pods test-pending -o jsonpath='{.status.containerStatuses[*].state.waiting.message}' | awk -F\"\\\"\" '{print $2}'\n",
    "        cli = \"kubectl -n \" + namespace + \" get pods \" + pod + \\\n",
    "              \" -o jsonpath='{.status.containerStatuses[*].state.waiting.message}'\" + \\\n",
    "              \" | awk -F'\\\"' '{print $2}'\"\n",
    "        \n",
    "        kubectl_command_line = subprocess.check_output(cli, shell=True,  encoding='utf-8')\n",
    "        print(\"현재 적용된 이미지 : \" + kubectl_command_line)\n",
    "        tmp_string = namespace + \" \" + pod + \" \" + kubectl_command_line\n",
    "        \n",
    "        ### sort :: namespace pod result        \n",
    "        kubectl_result.append(tmp_string)\n",
    "        \n",
    "    return(kubectl_result)\n",
    "    \n"
   ]
  },
  {
   "cell_type": "code",
   "execution_count": 36,
   "metadata": {},
   "outputs": [],
   "source": [
    "def recommand_image():\n",
    "    pending_images = kubectl_jsonpath()\n",
    "    cnt = len(pending_images)\n",
    "    spell = SpellChecker()\n",
    "    spell.word_frequency.load_text_file('./words.txt')\n",
    "    \n",
    "    #result = []\n",
    "    for i in range(cnt):\n",
    "        namespace = pending_images[i].split(' ')[0]\n",
    "        pod = pending_images[i].split(' ')[1]   \n",
    "        m_image = pending_images[i].split(' ')[2]\n",
    "        \n",
    "        #misspelled = spell.unknown([m_image])\n",
    "        tmp_recommend = spell.correction(m_image)\n",
    "        tmp_string = \"namespace: \" + namespace \\\n",
    "                   + \" , pod: \" + pod \\\n",
    "                   + \"\\n\" + \"   =====> Please Check your Pull Image. May be : \" + tmp_recommend \n",
    "        result = tmp_string\n",
    "        print(result)\n",
    "        \n",
    "    #return(result)\n",
    "    "
   ]
  },
  {
   "cell_type": "code",
   "execution_count": 37,
   "metadata": {},
   "outputs": [
    {
     "name": "stdout",
     "output_type": "stream",
     "text": [
      "현재 적용된 이미지 : mysqll\n",
      "\n",
      "현재 적용된 이미지 : nnginx\n",
      "\n",
      "namespace: test-pending , pod: test-mysql\n",
      "   =====> Please Check your Pull Image. May be : mysql\n",
      "namespace: aiops , pod: test-pending\n",
      "   =====> Please Check your Pull Image. May be : nginx\n",
      "None\n"
     ]
    }
   ],
   "source": [
    "if __name__==\"__main__\":\n",
    "    #print(kube_container_waiting())\n",
    "    #print(kubectl_jsonpath())\n",
    "    print(recommand_image())\n",
    "    "
   ]
  },
  {
   "cell_type": "code",
   "execution_count": null,
   "metadata": {},
   "outputs": [],
   "source": []
  }
 ],
 "metadata": {
  "kernelspec": {
   "display_name": "Python 3",
   "language": "python",
   "name": "python3"
  },
  "language_info": {
   "codemirror_mode": {
    "name": "ipython",
    "version": 3
   },
   "file_extension": ".py",
   "mimetype": "text/x-python",
   "name": "python",
   "nbconvert_exporter": "python",
   "pygments_lexer": "ipython3",
   "version": "3.7.8"
  }
 },
 "nbformat": 4,
 "nbformat_minor": 4
}
