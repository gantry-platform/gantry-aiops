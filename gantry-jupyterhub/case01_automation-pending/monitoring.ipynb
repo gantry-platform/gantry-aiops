{
 "cells": [
  {
   "cell_type": "code",
   "execution_count": 11,
   "metadata": {},
   "outputs": [
    {
     "name": "stdout",
     "output_type": "stream",
     "text": [
      "it should be : nginx\n",
      "it should be : nginx\n",
      "it should be : nginx\n",
      "it should be : nginx\n"
     ]
    }
   ],
   "source": [
    "import os\n",
    "from spellchecker import SpellChecker\n",
    "\n",
    "#print(os.getcwd())\n",
    "#print(os.path.dirname(os.path.realpath('__file__')))\n",
    "#print(os.listdir(os.path.dirname(os.path.realpath('__file__'))))\n",
    "\n",
    "spell = SpellChecker()\n",
    "spell.word_frequency.load_text_file('./words.txt')\n",
    "\n",
    "\n",
    "# find those words that may be misspelled\n",
    "#misspelled = spell.unknown(['let', 'us', 'wlak','on','the','groun']) \n",
    "\n",
    "#string_to_be_checked = \"ngixn\"\n",
    "#spell.check(string_to_be_checked)\n",
    "\n",
    "\n",
    "misspelled = spell.unknown(['nginx1', 'nignx', 'ngixn', 'nnginx'])\n",
    "for word in misspelled:\n",
    "    # Get the one `most likely` answer\n",
    "    print(\"it should be : \" + spell.correction(word))\n",
    "\n",
    "    # Get a list of `likely` options\n",
    "    #print(spell.candidates(word))\n"
   ]
  },
  {
   "cell_type": "code",
   "execution_count": 14,
   "metadata": {},
   "outputs": [
    {
     "name": "stdout",
     "output_type": "stream",
     "text": [
      "total 12\r\n",
      "drwxr-xr-x. 3 jovyan users   94 Sep 11 08:51 .\r\n",
      "drwxr-xr-x. 8 jovyan users  209 Sep 11 07:13 ..\r\n",
      "drwxr-xr-x. 2 jovyan users   73 Sep 11 07:15 .ipynb_checkpoints\r\n",
      "-rw-r--r--. 1 jovyan users 2194 Sep 11 08:51 monitoring.ipynb\r\n",
      "-rw-r--r--. 1 jovyan users  977 Sep 11 07:27 set_env.ipynb\r\n",
      "-rw-r--r--. 1 jovyan users    6 Sep 11 07:41 words.txt\r\n"
     ]
    }
   ],
   "source": [
    "!ls -la"
   ]
  },
  {
   "cell_type": "code",
   "execution_count": 17,
   "metadata": {},
   "outputs": [
    {
     "name": "stdout",
     "output_type": "stream",
     "text": [
      "/bin/bash: kubectl: command not found\r\n"
     ]
    }
   ],
   "source": []
  },
  {
   "cell_type": "code",
   "execution_count": null,
   "metadata": {},
   "outputs": [],
   "source": []
  }
 ],
 "metadata": {
  "kernelspec": {
   "display_name": "Python 3",
   "language": "python",
   "name": "python3"
  },
  "language_info": {
   "codemirror_mode": {
    "name": "ipython",
    "version": 3
   },
   "file_extension": ".py",
   "mimetype": "text/x-python",
   "name": "python",
   "nbconvert_exporter": "python",
   "pygments_lexer": "ipython3",
   "version": "3.7.8"
  }
 },
 "nbformat": 4,
 "nbformat_minor": 4
}
