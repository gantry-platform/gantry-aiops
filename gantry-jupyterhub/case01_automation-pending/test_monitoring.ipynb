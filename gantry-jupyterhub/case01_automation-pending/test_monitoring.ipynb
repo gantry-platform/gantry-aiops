{
 "cells": [
  {
   "cell_type": "code",
   "execution_count": 436,
   "metadata": {},
   "outputs": [
    {
     "name": "stdout",
     "output_type": "stream",
     "text": [
      "it should be : nginx\n",
      "it should be : nginx\n",
      "it should be : nginx\n",
      "it should be : nginx\n"
     ]
    }
   ],
   "source": [
    "import os\n",
    "import requests\n",
    "import json\n",
    "import pandas as pd\n",
    "import subprocess\n",
    "\n",
    "from spellchecker import SpellChecker\n",
    "\n",
    "#print(os.getcwd())\n",
    "#print(os.path.dirname(os.path.realpath('__file__')))\n",
    "#print(os.listdir(os.path.dirname(os.path.realpath('__file__'))))\n",
    "\n",
    "spell = SpellChecker()\n",
    "spell.word_frequency.load_text_file('./words.txt')\n",
    "\n",
    "\n",
    "# find those words that may be misspelled\n",
    "#misspelled = spell.unknown(['let', 'us', 'wlak','on','the','groun']) \n",
    "\n",
    "#string_to_be_checked = \"ngixn\"\n",
    "#spell.check(string_to_be_checked)\n",
    "\n",
    "\n",
    "misspelled = spell.unknown(['nginx1', 'nignx', 'ngixn', 'nnginx'])\n",
    "for word in misspelled:\n",
    "    # Get the one `most likely` answer\n",
    "    print(\"it should be : \" + spell.correction(word))\n",
    "    \n",
    "    # Get a list of `likely` options\n",
    "    #print(spell.candidates(word))\n"
   ]
  },
  {
   "cell_type": "code",
   "execution_count": 437,
   "metadata": {},
   "outputs": [
    {
     "name": "stdout",
     "output_type": "stream",
     "text": [
      "total 24\r\n",
      "drwxr-xr-x. 3 jovyan users  123 Sep 15 07:09 .\r\n",
      "drwxr-xr-x. 8 jovyan users  209 Sep 14 07:22 ..\r\n",
      "drwxr-xr-x. 2 jovyan users  113 Sep 14 07:19 .ipynb_checkpoints\r\n",
      "-rw-r--r--. 1 jovyan users 3350 Sep 15 03:39 monitoring.ipynb\r\n",
      "-rw-r--r--. 1 jovyan users 1257 Sep 15 03:29 set_env.ipynb\r\n",
      "-rw-r--r--. 1 jovyan users 8901 Sep 15 07:09 test_monitoring.ipynb\r\n",
      "-rw-r--r--. 1 jovyan users    6 Sep 14 06:51 words.txt\r\n"
     ]
    }
   ],
   "source": [
    "!ls -la"
   ]
  },
  {
   "cell_type": "code",
   "execution_count": 438,
   "metadata": {},
   "outputs": [
    {
     "name": "stdout",
     "output_type": "stream",
     "text": [
      "http://13.125.63.249:30915/api/v1/query?query=ALERTS{alertname=\"KubeContainerWaiting\"}\n"
     ]
    }
   ],
   "source": [
    "prom_query_range_url = 'http://13.125.63.249:30915/api/v1/query_range?query='\n",
    "prom_query_url = 'http://13.125.63.249:30915/api/v1/query?query='\n",
    "\n",
    "a = prom_query_url + 'ALERTS{alertname=\"KubeContainerWaiting\"}'\n",
    "\n",
    "\n",
    "print(a)"
   ]
  },
  {
   "cell_type": "code",
   "execution_count": 439,
   "metadata": {},
   "outputs": [],
   "source": [
    "def call_data(url, query):\n",
    "    r = requests.get(url + query)\n",
    "    return r"
   ]
  },
  {
   "cell_type": "code",
   "execution_count": 440,
   "metadata": {},
   "outputs": [],
   "source": [
    "def kube_container_waiting():\n",
    "    alert_query = 'ALERTS{alertname=\"KubeContainerWaiting\"}'\n",
    "    alert_get = call_data(prom_query_url, alert_query)\n",
    "    alert_message = json.loads(alert_get.text)\n",
    "    \n",
    "    fix_list = []\n",
    "    for item in alert_message['data']['result']:\n",
    "        #print(item)\n",
    "        check_list = {'namespace':item['metric']['namespace'], 'pod':item['metric']['pod']}\n",
    "        #check_list = {item['metric']['namespace'], item['metric']['pod']}\n",
    "        print(check_list)        \n",
    "        fix_list.append(check_list)     \n",
    "    \n",
    "    return(fix_list) \n",
    "    "
   ]
  },
  {
   "cell_type": "code",
   "execution_count": 441,
   "metadata": {},
   "outputs": [],
   "source": [
    "def kubectl_jsonpath():\n",
    "    pending_data = kube_container_waiting()\n",
    "    cnt = len(pending_data)    \n",
    "    df_data = pd.DataFrame(pending_data)\n",
    "    #print(df_data)\n",
    "    \n",
    "    kubectl_result = []\n",
    "    for i in range(cnt):\n",
    "        namespace = df_data.namespace[i]\n",
    "        pod = df_data.pod[i]\n",
    "        \n",
    "        cli = \"kubectl -n \" + namespace + \" get pods \" + pod + \\\n",
    "              \" -o jsonpath='{.status.containerStatuses[*].state.waiting.message}'\" + \\\n",
    "              \" | awk -F'\\\"' '{print $2}'\"\n",
    "        \n",
    "        kubectl_command_line = subprocess.check_output(cli, shell=True,  encoding='utf-8')\n",
    "        #print(type(kubectl_command_line))\n",
    "        #print(kubectl_command_line)\n",
    "        tmp_string = namespace + \" \" + pod + \" \" + kubectl_command_line\n",
    "        #print(tmp_string)\n",
    "        \n",
    "        ### sort :: namespace pod result        \n",
    "        kubectl_result.append(tmp_string)\n",
    "        \n",
    "    return(kubectl_result)"
   ]
  },
  {
   "cell_type": "code",
   "execution_count": 460,
   "metadata": {},
   "outputs": [],
   "source": [
    "def recommand_image():\n",
    "    pending_images = kubectl_jsonpath()\n",
    "    cnt = len(pending_images)\n",
    "    spell = SpellChecker()\n",
    "    spell.word_frequency.load_text_file('./words.txt')\n",
    "    \n",
    "    #result = []\n",
    "    for i in range(cnt):\n",
    "        namespace = pending_images[i].split(' ')[0]\n",
    "        pod = pending_images[i].split(' ')[1]   \n",
    "        m_image = pending_images[i].split(' ')[2]\n",
    "        \n",
    "        #misspelled = spell.unknown([m_image])\n",
    "        tmp_recommend = spell.correction(m_image)\n",
    "        tmp_string = \"namespace: \" + namespace \\\n",
    "                   + \" , pod: \" + pod \\\n",
    "                   + \"\\n\" + \" =====> Please Check your Pull Image. It should be : \" + tmp_recommend\n",
    "        result = tmp_string\n",
    "        print(result)\n",
    "        \n",
    "    #return(result)\n",
    "    "
   ]
  },
  {
   "cell_type": "code",
   "execution_count": 461,
   "metadata": {},
   "outputs": [
    {
     "name": "stdout",
     "output_type": "stream",
     "text": [
      "{'namespace': 'aiops', 'pod': 'test-pending'}\n",
      "{'namespace': 'default', 'pod': 'test-pending-de'}\n",
      "namespace:default , pod:test-pending-de Please Check your Pulll Image. It should be : nginx\n"
     ]
    }
   ],
   "source": [
    "if __name__==\"__main__\":\n",
    "    #print(kube_container_waiting())\n",
    "    #print(kubectl_jsonpath())\n",
    "    print(recommand_image())"
   ]
  },
  {
   "cell_type": "code",
   "execution_count": null,
   "metadata": {},
   "outputs": [],
   "source": []
  },
  {
   "cell_type": "code",
   "execution_count": 444,
   "metadata": {},
   "outputs": [
    {
     "name": "stdout",
     "output_type": "stream",
     "text": [
      "nginx1\r\n"
     ]
    }
   ],
   "source": [
    "!kubectl -n aiops get pods test-pending -o jsonpath='{.status.containerStatuses[*].state.waiting.message}' | awk -F'\"' '{print $2}'"
   ]
  },
  {
   "cell_type": "code",
   "execution_count": null,
   "metadata": {},
   "outputs": [],
   "source": [
    "a = !kubectl -n aiops get pods test-pending -o jsonpath='{.status.containerStatuses[*].state.waiting.message}'"
   ]
  },
  {
   "cell_type": "code",
   "execution_count": null,
   "metadata": {},
   "outputs": [],
   "source": [
    "print(a)"
   ]
  },
  {
   "cell_type": "code",
   "execution_count": 376,
   "metadata": {},
   "outputs": [],
   "source": [
    "b = !kubectl -n aiops get pods test-pending -o jsonpath='{.status.containerStatuses[*].state.waiting.message}' | awk -F\"\\\"\" '{print $2}'"
   ]
  },
  {
   "cell_type": "code",
   "execution_count": 380,
   "metadata": {},
   "outputs": [
    {
     "name": "stdout",
     "output_type": "stream",
     "text": [
      "['nginx1']\n"
     ]
    }
   ],
   "source": [
    "print(b)"
   ]
  },
  {
   "cell_type": "code",
   "execution_count": null,
   "metadata": {},
   "outputs": [],
   "source": []
  },
  {
   "cell_type": "code",
   "execution_count": null,
   "metadata": {},
   "outputs": [],
   "source": []
  }
 ],
 "metadata": {
  "kernelspec": {
   "display_name": "Python 3",
   "language": "python",
   "name": "python3"
  },
  "language_info": {
   "codemirror_mode": {
    "name": "ipython",
    "version": 3
   },
   "file_extension": ".py",
   "mimetype": "text/x-python",
   "name": "python",
   "nbconvert_exporter": "python",
   "pygments_lexer": "ipython3",
   "version": "3.7.8"
  }
 },
 "nbformat": 4,
 "nbformat_minor": 4
}
